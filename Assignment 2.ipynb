{
 "cells": [
  {
   "cell_type": "markdown",
   "id": "0187f497",
   "metadata": {},
   "source": [
    "#### Q1. How do you comment code in Python? What are the different types of comments?\n",
    "\n",
    "we can either use the \"#\" or tripple quote character to comment on multiple lines"
   ]
  },
  {
   "cell_type": "markdown",
   "id": "90f025e1",
   "metadata": {},
   "source": [
    "##### Q2 What are variables in Python? How do you declare and assign values to variables?\n",
    "\n",
    "variables are used to store values of data and act as placeholders for all the data types and we use the equal to \"=\" operator for assignment"
   ]
  },
  {
   "cell_type": "markdown",
   "id": "5d26d542",
   "metadata": {},
   "source": [
    "#### Q3. How do you convert one data type to another in Python?\n",
    "we use the  type type conversion functions and methods. "
   ]
  },
  {
   "cell_type": "markdown",
   "id": "af89cca7",
   "metadata": {},
   "source": [
    "#### Q4. How do you write and execute a Python script from the command line?\n",
    "you can write your python code in jupyter notebook, text editor and run the code."
   ]
  },
  {
   "cell_type": "markdown",
   "id": "f886b3d8",
   "metadata": {},
   "source": [
    "#### Q5. Given a list my_list = [1, 2, 3, 4, 5], write the code to slice the list and obtain the sub-list [2, 3]."
   ]
  },
  {
   "cell_type": "code",
   "execution_count": 1,
   "id": "c7659215",
   "metadata": {},
   "outputs": [
    {
     "data": {
      "text/plain": [
       "[2, 3]"
      ]
     },
     "execution_count": 1,
     "metadata": {},
     "output_type": "execute_result"
    }
   ],
   "source": [
    "my_list = [1, 2, 3, 4, 5]\n",
    "my_list[1:3]"
   ]
  },
  {
   "cell_type": "markdown",
   "id": "3cbaa234",
   "metadata": {},
   "source": [
    "#### Q6. What is a complex number in mathematics, and how is it represented in Python?\n",
    "\n",
    "A complex number in python is represented with j in the function example (5+7j)"
   ]
  },
  {
   "cell_type": "markdown",
   "id": "93c30bf3",
   "metadata": {},
   "source": [
    "#### Q7. What is the correct way to declare a variable named age and assign the value 25 to it?\n"
   ]
  },
  {
   "cell_type": "code",
   "execution_count": 2,
   "id": "f22f5e9a",
   "metadata": {},
   "outputs": [],
   "source": [
    "age = 25 "
   ]
  },
  {
   "cell_type": "markdown",
   "id": "c3643510",
   "metadata": {},
   "source": [
    "#### Q8. Declare a variable named price and assign the value 9.99 to it. What data type does this variable belong to?"
   ]
  },
  {
   "cell_type": "code",
   "execution_count": 4,
   "id": "65f41f6a",
   "metadata": {},
   "outputs": [
    {
     "data": {
      "text/plain": [
       "float"
      ]
     },
     "execution_count": 4,
     "metadata": {},
     "output_type": "execute_result"
    }
   ],
   "source": [
    "price = 9.99\n",
    "type(price) # price is a float data type"
   ]
  },
  {
   "cell_type": "markdown",
   "id": "7ba7b8b2",
   "metadata": {},
   "source": [
    "#### Q9. Create a variable named name and assign your full name to it as a string. How would you print the value of this variable?"
   ]
  },
  {
   "cell_type": "code",
   "execution_count": 6,
   "id": "9d304148",
   "metadata": {},
   "outputs": [
    {
     "name": "stdout",
     "output_type": "stream",
     "text": [
      "Alfred Dowuona-Owoo\n"
     ]
    }
   ],
   "source": [
    "name = \"Alfred Dowuona-Owoo\"\n",
    "print(name)"
   ]
  },
  {
   "cell_type": "markdown",
   "id": "c5c16589",
   "metadata": {},
   "source": [
    "#### Q10. Given the string \"Hello, World!\", extract the substring \"World\"."
   ]
  },
  {
   "cell_type": "code",
   "execution_count": 7,
   "id": "5fb97ac1",
   "metadata": {},
   "outputs": [
    {
     "data": {
      "text/plain": [
       "'World'"
      ]
     },
     "execution_count": 7,
     "metadata": {},
     "output_type": "execute_result"
    }
   ],
   "source": [
    "strings = \"Hello World\"\n",
    "strings[-5:]"
   ]
  },
  {
   "cell_type": "markdown",
   "id": "778d1b4d",
   "metadata": {},
   "source": [
    "#### Q11. Create a variable named \"is_student\" and assign it a boolean value indicating whether you are currently a student or not."
   ]
  },
  {
   "cell_type": "code",
   "execution_count": 8,
   "id": "19c5bbed",
   "metadata": {},
   "outputs": [],
   "source": [
    "is_student = True\n"
   ]
  },
  {
   "cell_type": "code",
   "execution_count": null,
   "id": "0f0bb9d9",
   "metadata": {},
   "outputs": [],
   "source": []
  },
  {
   "cell_type": "code",
   "execution_count": null,
   "id": "45fdd260",
   "metadata": {},
   "outputs": [],
   "source": []
  },
  {
   "cell_type": "code",
   "execution_count": null,
   "id": "042f56cd",
   "metadata": {},
   "outputs": [],
   "source": []
  },
  {
   "cell_type": "code",
   "execution_count": null,
   "id": "b85c661c",
   "metadata": {},
   "outputs": [],
   "source": []
  },
  {
   "cell_type": "code",
   "execution_count": null,
   "id": "a2ce426d",
   "metadata": {},
   "outputs": [],
   "source": []
  }
 ],
 "metadata": {
  "kernelspec": {
   "display_name": "Python 3 (ipykernel)",
   "language": "python",
   "name": "python3"
  },
  "language_info": {
   "codemirror_mode": {
    "name": "ipython",
    "version": 3
   },
   "file_extension": ".py",
   "mimetype": "text/x-python",
   "name": "python",
   "nbconvert_exporter": "python",
   "pygments_lexer": "ipython3",
   "version": "3.11.4"
  }
 },
 "nbformat": 4,
 "nbformat_minor": 5
}
